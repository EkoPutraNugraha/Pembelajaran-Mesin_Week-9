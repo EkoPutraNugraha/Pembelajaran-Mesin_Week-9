{
  "nbformat": 4,
  "nbformat_minor": 0,
  "metadata": {
    "colab": {
      "provenance": []
    },
    "kernelspec": {
      "name": "python3",
      "display_name": "Python 3"
    },
    "language_info": {
      "name": "python"
    }
  },
  "cells": [
    {
      "cell_type": "code",
      "source": [
        "# Langkah 1: Mengimpor library yang diperlukan\n",
        "import pandas as pd  # Untuk manipulasi data\n",
        "import numpy as np  # Untuk operasi numerik\n",
        "from sklearn.model_selection import train_test_split  # Untuk membagi data menjadi training dan testing\n",
        "from sklearn.svm import SVC  # Model Support Vector Classifier\n",
        "from sklearn.metrics import classification_report, accuracy_score, roc_auc_score, roc_curve, confusion_matrix, precision_score, recall_score, f1_score  # Matriks evaluasi\n",
        "import matplotlib.pyplot as plt  # Untuk visualisasi"
      ],
      "metadata": {
        "id": "yE4fvDrvjyCN"
      },
      "execution_count": 51,
      "outputs": []
    },
    {
      "cell_type": "code",
      "execution_count": 43,
      "metadata": {
        "colab": {
          "base_uri": "https://localhost:8080/"
        },
        "id": "4XpzKylvhalA",
        "outputId": "c4336ab1-26f1-4163-b534-d9b1aae28e6e"
      },
      "outputs": [
        {
          "output_type": "stream",
          "name": "stdout",
          "text": [
            "Drive already mounted at /content/drive; to attempt to forcibly remount, call drive.mount(\"/content/drive\", force_remount=True).\n"
          ]
        }
      ],
      "source": [
        "# 1. Mount Google Drive untuk mengakses file CSV\n",
        "from google.colab import drive\n",
        "\n",
        "# Melakukan mounting Google Drive agar dapat membaca file CSV yang tersimpan\n",
        "drive.mount('/content/drive')"
      ]
    },
    {
      "cell_type": "code",
      "source": [
        "file_path = '/content/drive/MyDrive/Pembelajaran Mesin/MaterialStrength.csv'  # Ganti dengan path file Anda\n",
        "data = pd.read_csv(file_path)  # Membaca file CSV menggunakan panda"
      ],
      "metadata": {
        "id": "QcwAPuzZhjvD"
      },
      "execution_count": 44,
      "outputs": []
    },
    {
      "cell_type": "code",
      "source": [
        "# Langkah 1: Memeriksa apakah target kontinu\n",
        "print(\"Contoh nilai target sebelum encoding:\")\n",
        "print(y.unique())  # Menampilkan nilai unik target"
      ],
      "metadata": {
        "colab": {
          "base_uri": "https://localhost:8080/"
        },
        "id": "ag1_EIZYnS4k",
        "outputId": "d38f68f3-e7f1-428a-9bdd-2305f75fba6d"
      },
      "execution_count": 65,
      "outputs": [
        {
          "output_type": "stream",
          "name": "stdout",
          "text": [
            "Contoh nilai target sebelum encoding:\n",
            "[79.99 61.89 40.27 41.05 44.3  47.03 43.7  36.45 45.85 39.29 38.07 28.02\n",
            " 43.01 42.33 47.81 52.91 39.36 56.14 40.56 42.62 41.84 28.24  8.06 44.21\n",
            " 52.52 53.3  41.15 52.12 37.43 38.6  55.26 41.72 42.13 53.69 38.41 30.08\n",
            " 37.72 42.23 36.25 50.46 39.   53.1  41.54 35.08 15.05 40.76 26.26 32.82\n",
            " 39.78 46.93 33.12 49.19 14.59 14.64 41.93  9.13 50.95 33.02 54.38 51.73\n",
            "  9.87 50.66 48.7  55.06 44.7  30.28 40.86 71.99 34.4  28.8  33.4  36.3\n",
            " 29.   37.8  40.2  28.1  41.3  25.2  41.1  35.3  28.3  28.6  24.4  39.3\n",
            " 40.6  24.1  46.2  42.8  49.2  46.8  45.7  55.6  54.9  34.9  46.9  54.1\n",
            " 55.9  49.8  47.1  38.   56.1  59.09 22.9  35.1  61.09 59.8  60.29 61.8\n",
            " 56.7  68.3  66.9  50.7  56.4  55.5  68.5  71.3  74.7  52.2  67.7  66.\n",
            " 74.5  49.9  63.4  64.9  64.3  60.2  72.3  69.3  55.2  58.8  66.1  73.7\n",
            " 77.3  80.2  72.99 71.7  79.4  59.89 66.6  65.2  66.7  62.5  74.19 70.7\n",
            " 57.6  59.2  68.1  75.5  79.3  56.5  76.8  73.3  82.6  67.8  11.58 24.45\n",
            " 24.89 29.45 40.71 10.38 22.14 22.84 27.66 34.56 12.45 24.99 25.72 33.96\n",
            " 37.34 15.04 21.06 26.4  35.34 40.57 12.47 20.92 24.9  34.2  39.61 10.03\n",
            " 20.08 24.48 31.54  9.45 22.72 28.47 38.56 40.39 10.76 25.48 21.54 28.63\n",
            " 33.54  7.75 17.82 24.24 32.85 39.23 18.   30.39 45.71 50.77 53.9  13.18\n",
            " 17.84 40.23 47.13 49.97 13.36 22.32 24.54 31.35 19.93 25.69 30.23 39.59\n",
            " 13.82 24.92 29.22 38.33 42.35 13.54 26.31 31.64 42.55 42.92 13.33 25.37\n",
            " 37.4  44.4  47.74 19.52 38.5  45.08 47.82 15.44 26.77 33.73 42.7  45.84\n",
            " 17.22 29.93 29.65 36.97 43.58 13.12 24.43 32.66 36.64 13.62 21.6  27.77\n",
            " 35.57 45.37  7.32 21.5  31.27 43.5  48.67  7.4  23.51 31.12 39.15 48.15\n",
            " 22.5  34.67 34.74 48.97 23.14 41.89 48.28 51.04 55.64 22.95 35.23 39.94\n",
            " 48.72 52.04 21.02 33.36 33.94 44.14 15.36 28.68 30.85 42.03 51.06 21.78\n",
            " 42.29 50.6  55.83 60.95 23.52 42.22 52.5  60.32 66.42 23.8  38.77 51.33\n",
            " 56.85 58.61 21.91 36.99 47.4  51.96 56.74 17.57 40.15 46.64 50.08 17.37\n",
            " 33.7  45.94 51.43 59.3  30.45 47.71 63.14 66.82 66.95 27.42 35.96 55.51\n",
            " 61.99 63.53 18.02 53.96 56.63 15.34 26.05 30.22 37.27 46.23 16.28 25.62\n",
            " 31.97 43.06 67.57 57.23 81.75 64.02 78.8  41.37 60.28 56.83 51.02 55.55\n",
            " 44.13 39.38 55.65 47.28 44.33 52.3  49.25 29.16 39.4  67.87 58.52 53.58\n",
            " 59.   76.24 69.84 14.4  19.42 20.73 14.94 21.29 23.08 15.52 15.82 12.55\n",
            "  8.49 15.61 12.18 11.98 16.88 33.09 34.24 31.81 29.75 33.01 32.9  29.55\n",
            " 24.66 29.59 24.28 26.2  46.39 39.16 41.2  33.69 38.2  41.41 37.81 24.85\n",
            " 27.22 44.64 33.27 36.56 53.72 48.59 51.72 35.85 53.77 53.46 48.99 31.72\n",
            " 39.64 51.26 43.39 39.27 37.96 55.02 49.99 53.66 37.68 56.06 56.81 50.94\n",
            " 33.56 41.16 52.96 44.28 57.03 44.42 53.39 35.36 25.02 23.35 52.01 38.02\n",
            " 61.07 55.25 54.77 50.24 46.68 22.75 25.51 34.77 36.84 45.9  41.67 56.34\n",
            " 47.97 61.46 44.03 55.45 57.92 25.61 33.49 59.59 37.92 61.86 62.05 32.01\n",
            " 72.1  65.7  32.11 40.29 74.36 21.97  9.85 15.07 23.25 43.73 13.4  24.13\n",
            " 44.52 62.94 59.49 25.12 23.64 35.75 38.61 68.75 66.78 23.85 32.07 11.65\n",
            " 19.2  48.85 39.6  43.94 34.57 54.32 15.62 21.86 10.22 14.6  18.75 23.4\n",
            " 25.57 41.68 27.74  8.2   9.62 25.42 15.69 27.94 32.63 17.24 19.77 39.44\n",
            " 25.75 33.08 24.07 21.82 21.07 14.84 32.05 11.96 25.45 22.49 25.22 39.7\n",
            " 13.09 38.7   7.51 17.58 21.18 18.2  17.2  22.63 12.37 25.73 21.92 33.04\n",
            " 14.54 26.91  8.   31.9  10.34 37.44 11.48 24.44 17.6  10.73 31.38 13.22\n",
            " 20.97 27.04 32.04 35.17 38.89  6.47 12.84 18.42 21.95 25.08 21.26 25.97\n",
            " 11.36 31.25 32.33  9.31 26.94 27.63 29.79 34.49 36.15 12.54 27.53 32.92\n",
            "  9.99  7.84 12.25 11.17 17.34 17.54 30.57 14.2  24.5  15.58 26.85 26.06\n",
            " 38.21 30.14 12.73 20.87 20.28 34.29 19.54 43.38 29.89  6.9  33.19  4.9\n",
            "  4.57 25.46 24.29 33.95 11.41 20.59 25.89 29.23 31.02 10.39 33.66 27.87\n",
            " 19.35 11.39 12.79 39.32  4.78 16.11 20.42  6.94 15.03 13.57 32.53 15.75\n",
            "  7.68 38.8  33.   17.28 24.05 36.59 50.73 13.66 14.14 47.78  2.33 16.89\n",
            "  6.81 17.96 32.88 22.35 10.79  7.72  9.56  6.88 50.53 17.17 30.44  9.73\n",
            "  3.32 26.32 43.25  6.28 32.1  36.96 54.6  21.48  9.69  8.37 39.66 10.09\n",
            "  4.83 10.35 43.57 51.86 11.85 27.83 35.76 14.31 17.44 31.74 37.91 15.87\n",
            "  9.01 33.61 40.66 12.05 18.91 25.18 30.96 43.89 54.28 36.94 14.5  22.44\n",
            " 12.64 33.21 44.09 52.61 59.76 67.31 69.66 71.62 74.17 18.13 22.53 27.34\n",
            " 29.98 32.72  6.27 14.7  23.22 27.92 41.24 14.99 13.52 24.   37.42 11.47\n",
            " 21.16 31.84 14.8  21.65 29.39 16.26 31.45 37.23 39.49 26.74 61.92 47.22\n",
            " 55.16 41.64 13.71 19.69 31.65 19.11 39.58 48.79 34.68 37.33 38.11 33.8\n",
            " 42.42 48.4  55.94 58.78 67.11 20.77 21.75 39.09 24.39 50.51 74.99 37.17\n",
            " 33.76 16.5  19.99 36.35 15.42 33.42 39.05 27.68 26.86 45.3  30.12 15.57\n",
            " 44.61 53.52 57.21 65.91 52.82 18.03 37.36 32.84 42.64 40.06 41.94 61.23\n",
            " 40.87 33.3  52.42 15.09 38.46 37.26 31.87 39.45 31.18 23.69 32.76 32.4\n",
            " 36.8  18.28 33.06 31.42 31.03 44.39 25.56 36.44 32.96 23.84 26.23 17.95\n",
            " 40.68 19.01 33.72  8.54 13.46 32.24 29.72 49.77 52.44 40.93 44.86 13.2\n",
            " 29.87 56.61 12.46 23.79 13.29 39.42 23.74 26.14 35.86 28.99 46.24 26.92\n",
            " 10.54 25.1  29.07  9.74 39.84 26.97 27.23 30.65 33.05 24.58 30.88 24.34\n",
            " 23.89 22.93 29.41 18.29 28.94 38.63 32.25 29.73 52.45 44.87 56.62 26.15\n",
            " 15.53 35.87 46.25 38.22 39.06 57.22 52.83 35.31 43.8  61.24 33.31 52.43\n",
            " 42.14 31.88 39.46 23.7  32.77]\n"
          ]
        }
      ]
    },
    {
      "cell_type": "code",
      "source": [
        "# Langkah 2: Konversi target menjadi kategorikal (biner) jika perlu\n",
        "# Misalnya, jika target adalah nilai kontinu, ubah menjadi kategori 0 dan 1 berdasarkan threshold\n",
        "if y.dtype != 'int' and y.dtype != 'object':\n",
        "    # Misalnya, gunakan median sebagai threshold untuk klasifikasi biner\n",
        "    threshold = y.median()  # Threshold median\n",
        "    y = (y > threshold).astype(int)  # Nilai di atas threshold menjadi 1, lainnya 0"
      ],
      "metadata": {
        "id": "N3Pyr9_knUfA"
      },
      "execution_count": 66,
      "outputs": []
    },
    {
      "cell_type": "code",
      "source": [
        "# Langkah 3: Membagi data menjadi training dan testing ulang\n",
        "X_train, X_test, y_train, y_test = train_test_split(X, y, test_size=0.3, random_state=42)"
      ],
      "metadata": {
        "id": "osgKL7KxnWV4"
      },
      "execution_count": 67,
      "outputs": []
    },
    {
      "cell_type": "code",
      "source": [
        "# Langkah 4: Melatih model SVM\n",
        "svm_model = SVC(probability=True, random_state=42)  # Model SVM dengan probabilitas\n",
        "svm_model.fit(X_train, y_train)  # Melatih model dengan data training"
      ],
      "metadata": {
        "colab": {
          "base_uri": "https://localhost:8080/",
          "height": 81
        },
        "id": "dO4cQpX9nYEf",
        "outputId": "e2140e93-453f-4df2-d7f0-6f92ab4099c1"
      },
      "execution_count": 68,
      "outputs": [
        {
          "output_type": "execute_result",
          "data": {
            "text/plain": [
              "SVC(probability=True, random_state=42)"
            ],
            "text/html": [
              "<style>#sk-container-id-1 {\n",
              "  /* Definition of color scheme common for light and dark mode */\n",
              "  --sklearn-color-text: black;\n",
              "  --sklearn-color-line: gray;\n",
              "  /* Definition of color scheme for unfitted estimators */\n",
              "  --sklearn-color-unfitted-level-0: #fff5e6;\n",
              "  --sklearn-color-unfitted-level-1: #f6e4d2;\n",
              "  --sklearn-color-unfitted-level-2: #ffe0b3;\n",
              "  --sklearn-color-unfitted-level-3: chocolate;\n",
              "  /* Definition of color scheme for fitted estimators */\n",
              "  --sklearn-color-fitted-level-0: #f0f8ff;\n",
              "  --sklearn-color-fitted-level-1: #d4ebff;\n",
              "  --sklearn-color-fitted-level-2: #b3dbfd;\n",
              "  --sklearn-color-fitted-level-3: cornflowerblue;\n",
              "\n",
              "  /* Specific color for light theme */\n",
              "  --sklearn-color-text-on-default-background: var(--sg-text-color, var(--theme-code-foreground, var(--jp-content-font-color1, black)));\n",
              "  --sklearn-color-background: var(--sg-background-color, var(--theme-background, var(--jp-layout-color0, white)));\n",
              "  --sklearn-color-border-box: var(--sg-text-color, var(--theme-code-foreground, var(--jp-content-font-color1, black)));\n",
              "  --sklearn-color-icon: #696969;\n",
              "\n",
              "  @media (prefers-color-scheme: dark) {\n",
              "    /* Redefinition of color scheme for dark theme */\n",
              "    --sklearn-color-text-on-default-background: var(--sg-text-color, var(--theme-code-foreground, var(--jp-content-font-color1, white)));\n",
              "    --sklearn-color-background: var(--sg-background-color, var(--theme-background, var(--jp-layout-color0, #111)));\n",
              "    --sklearn-color-border-box: var(--sg-text-color, var(--theme-code-foreground, var(--jp-content-font-color1, white)));\n",
              "    --sklearn-color-icon: #878787;\n",
              "  }\n",
              "}\n",
              "\n",
              "#sk-container-id-1 {\n",
              "  color: var(--sklearn-color-text);\n",
              "}\n",
              "\n",
              "#sk-container-id-1 pre {\n",
              "  padding: 0;\n",
              "}\n",
              "\n",
              "#sk-container-id-1 input.sk-hidden--visually {\n",
              "  border: 0;\n",
              "  clip: rect(1px 1px 1px 1px);\n",
              "  clip: rect(1px, 1px, 1px, 1px);\n",
              "  height: 1px;\n",
              "  margin: -1px;\n",
              "  overflow: hidden;\n",
              "  padding: 0;\n",
              "  position: absolute;\n",
              "  width: 1px;\n",
              "}\n",
              "\n",
              "#sk-container-id-1 div.sk-dashed-wrapped {\n",
              "  border: 1px dashed var(--sklearn-color-line);\n",
              "  margin: 0 0.4em 0.5em 0.4em;\n",
              "  box-sizing: border-box;\n",
              "  padding-bottom: 0.4em;\n",
              "  background-color: var(--sklearn-color-background);\n",
              "}\n",
              "\n",
              "#sk-container-id-1 div.sk-container {\n",
              "  /* jupyter's `normalize.less` sets `[hidden] { display: none; }`\n",
              "     but bootstrap.min.css set `[hidden] { display: none !important; }`\n",
              "     so we also need the `!important` here to be able to override the\n",
              "     default hidden behavior on the sphinx rendered scikit-learn.org.\n",
              "     See: https://github.com/scikit-learn/scikit-learn/issues/21755 */\n",
              "  display: inline-block !important;\n",
              "  position: relative;\n",
              "}\n",
              "\n",
              "#sk-container-id-1 div.sk-text-repr-fallback {\n",
              "  display: none;\n",
              "}\n",
              "\n",
              "div.sk-parallel-item,\n",
              "div.sk-serial,\n",
              "div.sk-item {\n",
              "  /* draw centered vertical line to link estimators */\n",
              "  background-image: linear-gradient(var(--sklearn-color-text-on-default-background), var(--sklearn-color-text-on-default-background));\n",
              "  background-size: 2px 100%;\n",
              "  background-repeat: no-repeat;\n",
              "  background-position: center center;\n",
              "}\n",
              "\n",
              "/* Parallel-specific style estimator block */\n",
              "\n",
              "#sk-container-id-1 div.sk-parallel-item::after {\n",
              "  content: \"\";\n",
              "  width: 100%;\n",
              "  border-bottom: 2px solid var(--sklearn-color-text-on-default-background);\n",
              "  flex-grow: 1;\n",
              "}\n",
              "\n",
              "#sk-container-id-1 div.sk-parallel {\n",
              "  display: flex;\n",
              "  align-items: stretch;\n",
              "  justify-content: center;\n",
              "  background-color: var(--sklearn-color-background);\n",
              "  position: relative;\n",
              "}\n",
              "\n",
              "#sk-container-id-1 div.sk-parallel-item {\n",
              "  display: flex;\n",
              "  flex-direction: column;\n",
              "}\n",
              "\n",
              "#sk-container-id-1 div.sk-parallel-item:first-child::after {\n",
              "  align-self: flex-end;\n",
              "  width: 50%;\n",
              "}\n",
              "\n",
              "#sk-container-id-1 div.sk-parallel-item:last-child::after {\n",
              "  align-self: flex-start;\n",
              "  width: 50%;\n",
              "}\n",
              "\n",
              "#sk-container-id-1 div.sk-parallel-item:only-child::after {\n",
              "  width: 0;\n",
              "}\n",
              "\n",
              "/* Serial-specific style estimator block */\n",
              "\n",
              "#sk-container-id-1 div.sk-serial {\n",
              "  display: flex;\n",
              "  flex-direction: column;\n",
              "  align-items: center;\n",
              "  background-color: var(--sklearn-color-background);\n",
              "  padding-right: 1em;\n",
              "  padding-left: 1em;\n",
              "}\n",
              "\n",
              "\n",
              "/* Toggleable style: style used for estimator/Pipeline/ColumnTransformer box that is\n",
              "clickable and can be expanded/collapsed.\n",
              "- Pipeline and ColumnTransformer use this feature and define the default style\n",
              "- Estimators will overwrite some part of the style using the `sk-estimator` class\n",
              "*/\n",
              "\n",
              "/* Pipeline and ColumnTransformer style (default) */\n",
              "\n",
              "#sk-container-id-1 div.sk-toggleable {\n",
              "  /* Default theme specific background. It is overwritten whether we have a\n",
              "  specific estimator or a Pipeline/ColumnTransformer */\n",
              "  background-color: var(--sklearn-color-background);\n",
              "}\n",
              "\n",
              "/* Toggleable label */\n",
              "#sk-container-id-1 label.sk-toggleable__label {\n",
              "  cursor: pointer;\n",
              "  display: block;\n",
              "  width: 100%;\n",
              "  margin-bottom: 0;\n",
              "  padding: 0.5em;\n",
              "  box-sizing: border-box;\n",
              "  text-align: center;\n",
              "}\n",
              "\n",
              "#sk-container-id-1 label.sk-toggleable__label-arrow:before {\n",
              "  /* Arrow on the left of the label */\n",
              "  content: \"▸\";\n",
              "  float: left;\n",
              "  margin-right: 0.25em;\n",
              "  color: var(--sklearn-color-icon);\n",
              "}\n",
              "\n",
              "#sk-container-id-1 label.sk-toggleable__label-arrow:hover:before {\n",
              "  color: var(--sklearn-color-text);\n",
              "}\n",
              "\n",
              "/* Toggleable content - dropdown */\n",
              "\n",
              "#sk-container-id-1 div.sk-toggleable__content {\n",
              "  max-height: 0;\n",
              "  max-width: 0;\n",
              "  overflow: hidden;\n",
              "  text-align: left;\n",
              "  /* unfitted */\n",
              "  background-color: var(--sklearn-color-unfitted-level-0);\n",
              "}\n",
              "\n",
              "#sk-container-id-1 div.sk-toggleable__content.fitted {\n",
              "  /* fitted */\n",
              "  background-color: var(--sklearn-color-fitted-level-0);\n",
              "}\n",
              "\n",
              "#sk-container-id-1 div.sk-toggleable__content pre {\n",
              "  margin: 0.2em;\n",
              "  border-radius: 0.25em;\n",
              "  color: var(--sklearn-color-text);\n",
              "  /* unfitted */\n",
              "  background-color: var(--sklearn-color-unfitted-level-0);\n",
              "}\n",
              "\n",
              "#sk-container-id-1 div.sk-toggleable__content.fitted pre {\n",
              "  /* unfitted */\n",
              "  background-color: var(--sklearn-color-fitted-level-0);\n",
              "}\n",
              "\n",
              "#sk-container-id-1 input.sk-toggleable__control:checked~div.sk-toggleable__content {\n",
              "  /* Expand drop-down */\n",
              "  max-height: 200px;\n",
              "  max-width: 100%;\n",
              "  overflow: auto;\n",
              "}\n",
              "\n",
              "#sk-container-id-1 input.sk-toggleable__control:checked~label.sk-toggleable__label-arrow:before {\n",
              "  content: \"▾\";\n",
              "}\n",
              "\n",
              "/* Pipeline/ColumnTransformer-specific style */\n",
              "\n",
              "#sk-container-id-1 div.sk-label input.sk-toggleable__control:checked~label.sk-toggleable__label {\n",
              "  color: var(--sklearn-color-text);\n",
              "  background-color: var(--sklearn-color-unfitted-level-2);\n",
              "}\n",
              "\n",
              "#sk-container-id-1 div.sk-label.fitted input.sk-toggleable__control:checked~label.sk-toggleable__label {\n",
              "  background-color: var(--sklearn-color-fitted-level-2);\n",
              "}\n",
              "\n",
              "/* Estimator-specific style */\n",
              "\n",
              "/* Colorize estimator box */\n",
              "#sk-container-id-1 div.sk-estimator input.sk-toggleable__control:checked~label.sk-toggleable__label {\n",
              "  /* unfitted */\n",
              "  background-color: var(--sklearn-color-unfitted-level-2);\n",
              "}\n",
              "\n",
              "#sk-container-id-1 div.sk-estimator.fitted input.sk-toggleable__control:checked~label.sk-toggleable__label {\n",
              "  /* fitted */\n",
              "  background-color: var(--sklearn-color-fitted-level-2);\n",
              "}\n",
              "\n",
              "#sk-container-id-1 div.sk-label label.sk-toggleable__label,\n",
              "#sk-container-id-1 div.sk-label label {\n",
              "  /* The background is the default theme color */\n",
              "  color: var(--sklearn-color-text-on-default-background);\n",
              "}\n",
              "\n",
              "/* On hover, darken the color of the background */\n",
              "#sk-container-id-1 div.sk-label:hover label.sk-toggleable__label {\n",
              "  color: var(--sklearn-color-text);\n",
              "  background-color: var(--sklearn-color-unfitted-level-2);\n",
              "}\n",
              "\n",
              "/* Label box, darken color on hover, fitted */\n",
              "#sk-container-id-1 div.sk-label.fitted:hover label.sk-toggleable__label.fitted {\n",
              "  color: var(--sklearn-color-text);\n",
              "  background-color: var(--sklearn-color-fitted-level-2);\n",
              "}\n",
              "\n",
              "/* Estimator label */\n",
              "\n",
              "#sk-container-id-1 div.sk-label label {\n",
              "  font-family: monospace;\n",
              "  font-weight: bold;\n",
              "  display: inline-block;\n",
              "  line-height: 1.2em;\n",
              "}\n",
              "\n",
              "#sk-container-id-1 div.sk-label-container {\n",
              "  text-align: center;\n",
              "}\n",
              "\n",
              "/* Estimator-specific */\n",
              "#sk-container-id-1 div.sk-estimator {\n",
              "  font-family: monospace;\n",
              "  border: 1px dotted var(--sklearn-color-border-box);\n",
              "  border-radius: 0.25em;\n",
              "  box-sizing: border-box;\n",
              "  margin-bottom: 0.5em;\n",
              "  /* unfitted */\n",
              "  background-color: var(--sklearn-color-unfitted-level-0);\n",
              "}\n",
              "\n",
              "#sk-container-id-1 div.sk-estimator.fitted {\n",
              "  /* fitted */\n",
              "  background-color: var(--sklearn-color-fitted-level-0);\n",
              "}\n",
              "\n",
              "/* on hover */\n",
              "#sk-container-id-1 div.sk-estimator:hover {\n",
              "  /* unfitted */\n",
              "  background-color: var(--sklearn-color-unfitted-level-2);\n",
              "}\n",
              "\n",
              "#sk-container-id-1 div.sk-estimator.fitted:hover {\n",
              "  /* fitted */\n",
              "  background-color: var(--sklearn-color-fitted-level-2);\n",
              "}\n",
              "\n",
              "/* Specification for estimator info (e.g. \"i\" and \"?\") */\n",
              "\n",
              "/* Common style for \"i\" and \"?\" */\n",
              "\n",
              ".sk-estimator-doc-link,\n",
              "a:link.sk-estimator-doc-link,\n",
              "a:visited.sk-estimator-doc-link {\n",
              "  float: right;\n",
              "  font-size: smaller;\n",
              "  line-height: 1em;\n",
              "  font-family: monospace;\n",
              "  background-color: var(--sklearn-color-background);\n",
              "  border-radius: 1em;\n",
              "  height: 1em;\n",
              "  width: 1em;\n",
              "  text-decoration: none !important;\n",
              "  margin-left: 1ex;\n",
              "  /* unfitted */\n",
              "  border: var(--sklearn-color-unfitted-level-1) 1pt solid;\n",
              "  color: var(--sklearn-color-unfitted-level-1);\n",
              "}\n",
              "\n",
              ".sk-estimator-doc-link.fitted,\n",
              "a:link.sk-estimator-doc-link.fitted,\n",
              "a:visited.sk-estimator-doc-link.fitted {\n",
              "  /* fitted */\n",
              "  border: var(--sklearn-color-fitted-level-1) 1pt solid;\n",
              "  color: var(--sklearn-color-fitted-level-1);\n",
              "}\n",
              "\n",
              "/* On hover */\n",
              "div.sk-estimator:hover .sk-estimator-doc-link:hover,\n",
              ".sk-estimator-doc-link:hover,\n",
              "div.sk-label-container:hover .sk-estimator-doc-link:hover,\n",
              ".sk-estimator-doc-link:hover {\n",
              "  /* unfitted */\n",
              "  background-color: var(--sklearn-color-unfitted-level-3);\n",
              "  color: var(--sklearn-color-background);\n",
              "  text-decoration: none;\n",
              "}\n",
              "\n",
              "div.sk-estimator.fitted:hover .sk-estimator-doc-link.fitted:hover,\n",
              ".sk-estimator-doc-link.fitted:hover,\n",
              "div.sk-label-container:hover .sk-estimator-doc-link.fitted:hover,\n",
              ".sk-estimator-doc-link.fitted:hover {\n",
              "  /* fitted */\n",
              "  background-color: var(--sklearn-color-fitted-level-3);\n",
              "  color: var(--sklearn-color-background);\n",
              "  text-decoration: none;\n",
              "}\n",
              "\n",
              "/* Span, style for the box shown on hovering the info icon */\n",
              ".sk-estimator-doc-link span {\n",
              "  display: none;\n",
              "  z-index: 9999;\n",
              "  position: relative;\n",
              "  font-weight: normal;\n",
              "  right: .2ex;\n",
              "  padding: .5ex;\n",
              "  margin: .5ex;\n",
              "  width: min-content;\n",
              "  min-width: 20ex;\n",
              "  max-width: 50ex;\n",
              "  color: var(--sklearn-color-text);\n",
              "  box-shadow: 2pt 2pt 4pt #999;\n",
              "  /* unfitted */\n",
              "  background: var(--sklearn-color-unfitted-level-0);\n",
              "  border: .5pt solid var(--sklearn-color-unfitted-level-3);\n",
              "}\n",
              "\n",
              ".sk-estimator-doc-link.fitted span {\n",
              "  /* fitted */\n",
              "  background: var(--sklearn-color-fitted-level-0);\n",
              "  border: var(--sklearn-color-fitted-level-3);\n",
              "}\n",
              "\n",
              ".sk-estimator-doc-link:hover span {\n",
              "  display: block;\n",
              "}\n",
              "\n",
              "/* \"?\"-specific style due to the `<a>` HTML tag */\n",
              "\n",
              "#sk-container-id-1 a.estimator_doc_link {\n",
              "  float: right;\n",
              "  font-size: 1rem;\n",
              "  line-height: 1em;\n",
              "  font-family: monospace;\n",
              "  background-color: var(--sklearn-color-background);\n",
              "  border-radius: 1rem;\n",
              "  height: 1rem;\n",
              "  width: 1rem;\n",
              "  text-decoration: none;\n",
              "  /* unfitted */\n",
              "  color: var(--sklearn-color-unfitted-level-1);\n",
              "  border: var(--sklearn-color-unfitted-level-1) 1pt solid;\n",
              "}\n",
              "\n",
              "#sk-container-id-1 a.estimator_doc_link.fitted {\n",
              "  /* fitted */\n",
              "  border: var(--sklearn-color-fitted-level-1) 1pt solid;\n",
              "  color: var(--sklearn-color-fitted-level-1);\n",
              "}\n",
              "\n",
              "/* On hover */\n",
              "#sk-container-id-1 a.estimator_doc_link:hover {\n",
              "  /* unfitted */\n",
              "  background-color: var(--sklearn-color-unfitted-level-3);\n",
              "  color: var(--sklearn-color-background);\n",
              "  text-decoration: none;\n",
              "}\n",
              "\n",
              "#sk-container-id-1 a.estimator_doc_link.fitted:hover {\n",
              "  /* fitted */\n",
              "  background-color: var(--sklearn-color-fitted-level-3);\n",
              "}\n",
              "</style><div id=\"sk-container-id-1\" class=\"sk-top-container\"><div class=\"sk-text-repr-fallback\"><pre>SVC(probability=True, random_state=42)</pre><b>In a Jupyter environment, please rerun this cell to show the HTML representation or trust the notebook. <br />On GitHub, the HTML representation is unable to render, please try loading this page with nbviewer.org.</b></div><div class=\"sk-container\" hidden><div class=\"sk-item\"><div class=\"sk-estimator fitted sk-toggleable\"><input class=\"sk-toggleable__control sk-hidden--visually\" id=\"sk-estimator-id-1\" type=\"checkbox\" checked><label for=\"sk-estimator-id-1\" class=\"sk-toggleable__label fitted sk-toggleable__label-arrow fitted\">&nbsp;&nbsp;SVC<a class=\"sk-estimator-doc-link fitted\" rel=\"noreferrer\" target=\"_blank\" href=\"https://scikit-learn.org/1.5/modules/generated/sklearn.svm.SVC.html\">?<span>Documentation for SVC</span></a><span class=\"sk-estimator-doc-link fitted\">i<span>Fitted</span></span></label><div class=\"sk-toggleable__content fitted\"><pre>SVC(probability=True, random_state=42)</pre></div> </div></div></div></div>"
            ]
          },
          "metadata": {},
          "execution_count": 68
        }
      ]
    },
    {
      "cell_type": "code",
      "source": [
        "# Langkah 5: Evaluasi model\n",
        "y_pred = svm_model.predict(X_test)  # Prediksi label untuk data testing\n",
        "y_pred_proba = svm_model.predict_proba(X_test)[:, 1]  # Probabilitas prediksi untuk kelas positif"
      ],
      "metadata": {
        "id": "IX1EsjVznaUY"
      },
      "execution_count": 69,
      "outputs": []
    },
    {
      "cell_type": "code",
      "source": [
        "# Evaluasi dan visualisasi seperti sebelumnya\n",
        "accuracy = accuracy_score(y_test, y_pred)\n",
        "precision = precision_score(y_test, y_pred, average='binary')\n",
        "recall = recall_score(y_test, y_pred, average='binary')\n",
        "f1 = f1_score(y_test, y_pred, average='binary')\n",
        "roc_auc = roc_auc_score(y_test, y_pred_proba)"
      ],
      "metadata": {
        "id": "wBTwinSoncv9"
      },
      "execution_count": 70,
      "outputs": []
    },
    {
      "cell_type": "code",
      "source": [
        "print(f\"Akurasi: {accuracy:.2f}\")\n",
        "print(f\"Presisi: {precision:.2f}\")\n",
        "print(f\"Recall: {recall:.2f}\")\n",
        "print(f\"F1-Score: {f1:.2f}\")\n",
        "print(f\"AUC-ROC: {roc_auc:.2f}\")"
      ],
      "metadata": {
        "colab": {
          "base_uri": "https://localhost:8080/"
        },
        "id": "uDxy-E31neeX",
        "outputId": "4fec428b-a5fa-41ad-ab02-6f4893e4204b"
      },
      "execution_count": 71,
      "outputs": [
        {
          "output_type": "stream",
          "name": "stdout",
          "text": [
            "Akurasi: 0.78\n",
            "Presisi: 0.82\n",
            "Recall: 0.69\n",
            "F1-Score: 0.75\n",
            "AUC-ROC: 0.88\n"
          ]
        }
      ]
    },
    {
      "cell_type": "markdown",
      "source": [
        "model menunjukkan performa yang baik dengan keseimbangan yang layak antara presisi dan recall, serta kemampuan tinggi dalam membedakan kelas positif dan negatif. Namun, nilai recall yang lebih rendah dibandingkan presisi menunjukkan bahwa model mungkin lebih sering melewatkan beberapa sampel positif, yang bisa menjadi perhatian tergantung pada konteks tugas klasifikasi."
      ],
      "metadata": {
        "id": "BjIMS80CoGs8"
      }
    },
    {
      "cell_type": "code",
      "source": [
        "# Menampilkan matriks kebingungan\n",
        "cm = confusion_matrix(y_test, y_pred)\n",
        "print(\"\\nConfusion Matrix:\")\n",
        "print(cm)"
      ],
      "metadata": {
        "colab": {
          "base_uri": "https://localhost:8080/"
        },
        "id": "yrBlTn7DnpLE",
        "outputId": "9f4bbd78-34b4-4e4f-b60f-07069287de4c"
      },
      "execution_count": 72,
      "outputs": [
        {
          "output_type": "stream",
          "name": "stdout",
          "text": [
            "\n",
            "Confusion Matrix:\n",
            "[[137  22]\n",
            " [ 47 103]]\n"
          ]
        }
      ]
    },
    {
      "cell_type": "markdown",
      "source": [
        "Hasil matriks kebingungan menunjukkan bagaimana model SVM memprediksi data uji. Dari matriks tersebut, dapat dilihat bahwa model berhasil memprediksi 137 sampel negatif dengan benar sebagai negatif (True Negatives) dan 103 sampel positif dengan benar sebagai positif (True Positives). Ini menunjukkan bahwa model memiliki kemampuan yang cukup baik dalam mengenali sebagian besar sampel, baik yang termasuk dalam kelas negatif maupun positif.\n",
        "\n",
        "Namun, terdapat beberapa kesalahan dalam prediksi. Model salah memprediksi 22 sampel negatif sebagai positif (False Positives), yang menunjukkan bahwa model terkadang terlalu \"yakin\" untuk mengklasifikasikan sampel negatif sebagai positif. Selain itu, model juga gagal mengenali 47 sampel positif yang diprediksi sebagai negatif (False Negatives). Kesalahan ini mengindikasikan bahwa model memiliki kelemahan dalam mendeteksi semua sampel positif dengan benar.\n",
        "\n",
        "Dari perspektif keseluruhan, model memiliki lebih sedikit kesalahan False Positives dibandingkan False Negatives, yang dapat menjadi perhatian tergantung pada konteks tugas. Jika ini adalah masalah yang sensitif terhadap False Negatives (seperti deteksi penyakit), maka kesalahan ini menjadi lebih signifikan karena 47 sampel positif yang sebenarnya tidak terdeteksi oleh model. Sebaliknya, jika False Positives tidak menjadi masalah besar, maka model ini sudah cukup baik karena sebagian besar sampel positif berhasil dikenali dengan benar.\n",
        "\n",
        "Secara keseluruhan, meskipun model menunjukkan performa yang baik dengan jumlah prediksi benar yang dominan, ada ruang untuk perbaikan dalam menangani False Negatives. Hal ini dapat ditingkatkan melalui penyesuaian threshold atau eksplorasi lebih lanjut pada metode balancing kelas jika dataset tidak seimbang."
      ],
      "metadata": {
        "id": "UhQKkR2boYfT"
      }
    },
    {
      "cell_type": "code",
      "source": [
        "# Langkah 7: Visualisasi Matriks Kebingungan\n",
        "import matplotlib.pyplot as plt\n",
        "import seaborn as sns\n",
        "\n",
        "plt.figure(figsize=(6, 6))\n",
        "sns.heatmap(cm, annot=True, fmt='d', cmap='Blues', cbar=False)\n",
        "plt.title(\"Confusion Matrix\")\n",
        "plt.xlabel(\"Predicted\")\n",
        "plt.ylabel(\"Actual\")\n",
        "plt.show()\n"
      ],
      "metadata": {
        "colab": {
          "base_uri": "https://localhost:8080/",
          "height": 564
        },
        "id": "nnhsMHi5nqqZ",
        "outputId": "4fc55c67-c300-4ec4-99e1-7b5bf01d51c0"
      },
      "execution_count": 73,
      "outputs": [
        {
          "output_type": "display_data",
          "data": {
            "text/plain": [
              "<Figure size 600x600 with 1 Axes>"
            ],
            "image/png": "[encoded data removed]"
          },
          "metadata": {}
        }
      ]
    },
    {
      "cell_type": "code",
      "source": [
        "# Langkah 8: Visualisasi Kurva ROC\n",
        "fpr, tpr, thresholds = roc_curve(y_test, y_pred_proba)\n",
        "\n",
        "plt.figure(figsize=(8, 6))\n",
        "plt.plot(fpr, tpr, label=f\"AUC = {roc_auc:.2f}\")\n",
        "plt.plot([0, 1], [0, 1], 'r--')  # Garis diagonal sebagai baseline\n",
        "plt.title('Receiver Operating Characteristic (ROC) Curve')\n",
        "plt.xlabel('False Positive Rate')\n",
        "plt.ylabel('True Positive Rate')\n",
        "plt.legend(loc=\"lower right\")\n",
        "plt.show()"
      ],
      "metadata": {
        "colab": {
          "base_uri": "https://localhost:8080/",
          "height": 564
        },
        "id": "-5ub3CV0ntpg",
        "outputId": "8545717b-c433-4e26-d9d1-c7ae005be76d"
      },
      "execution_count": 74,
      "outputs": [
        {
          "output_type": "display_data",
          "data": {
            "text/plain": [
              "<Figure size 800x600 with 1 Axes>"
            ],
            "image/png": "[encoded data removed]"
          },
          "metadata": {}
        }
      ]
    },
    {
      "cell_type": "markdown",
      "source": [
        "Grafik yang ditampilkan adalah kurva ROC (Receiver Operating Characteristic), yang menggambarkan hubungan antara True Positive Rate (TPR) dan False Positive Rate (FPR) untuk berbagai threshold prediksi probabilitas. Kurva ROC digunakan untuk mengevaluasi kemampuan model dalam membedakan antara kelas positif dan negatif.\n",
        "\n",
        "Pada grafik, garis biru menunjukkan performa model berdasarkan perubahan threshold, sementara garis merah diagonal menunjukkan baseline dari model yang memprediksi secara acak (AUC = 0.5). Semakin jauh kurva dari garis diagonal, semakin baik kemampuan model dalam membedakan antara kelas.\n",
        "\n",
        "Model ini memiliki area under the curve (AUC) sebesar 0.88, yang menunjukkan performa yang sangat baik. Nilai AUC yang tinggi ini mengindikasikan bahwa model memiliki kemampuan yang kuat untuk membedakan antara kelas positif dan negatif di berbagai threshold. Ini berarti model mampu memberikan probabilitas yang baik untuk memprioritaskan prediksi kelas positif (True Positives) tanpa meningkatkan False Positives secara signifikan.\n",
        "\n",
        "Pada awal kurva (kiri bawah), model menunjukkan performa yang hampir sempurna dengan nilai FPR yang sangat rendah (sedikit False Positives) dan TPR yang tinggi. Namun, saat threshold diturunkan (menuju kanan atas), FPR meningkat karena model menjadi lebih permisif dalam memprediksi kelas positif. Meski demikian, performa tetap konsisten dengan kurva yang berada jauh di atas baseline, menunjukkan bahwa model lebih baik daripada tebakan acak.\n",
        "\n",
        "Secara keseluruhan, kurva ROC dan nilai AUC yang ditampilkan menunjukkan bahwa model bekerja dengan baik dalam membedakan kelas positif dan negatif. Namun, jika False Positives atau False Negatives memiliki dampak yang berbeda dalam konteks aplikasi, threshold optimal mungkin perlu disesuaikan untuk memprioritaskan salah satu metrik tertentu, seperti presisi atau recall."
      ],
      "metadata": {
        "id": "BcLBSiTvomQ0"
      }
    },
    {
      "cell_type": "code",
      "source": [
        "# Langkah 9: Visualisasi Distribusi Probabilitas Prediksi\n",
        "plt.figure(figsize=(8, 6))\n",
        "sns.histplot(y_pred_proba, bins=20, kde=True, color='blue', label='Predicted Probabilities')\n",
        "plt.axvline(0.5, color='red', linestyle='--', label='Threshold = 0.5')\n",
        "plt.title(\"Distribution of Predicted Probabilities\")\n",
        "plt.xlabel(\"Probability\")\n",
        "plt.ylabel(\"Frequency\")\n",
        "plt.legend()\n",
        "plt.show()"
      ],
      "metadata": {
        "colab": {
          "base_uri": "https://localhost:8080/",
          "height": 564
        },
        "id": "oLWr5fzjnvGj",
        "outputId": "30e561bf-2ed2-447a-915a-6bb81cb57f92"
      },
      "execution_count": 75,
      "outputs": [
        {
          "output_type": "display_data",
          "data": {
            "text/plain": [
              "<Figure size 800x600 with 1 Axes>"
            ],
            "image/png": "[encoded data removed]"
          },
          "metadata": {}
        }
      ]
    }
  ]
}